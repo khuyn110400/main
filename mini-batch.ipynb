{
  "nbformat": 4,
  "nbformat_minor": 0,
  "metadata": {
    "colab": {
      "provenance": []
    },
    "kernelspec": {
      "name": "python3",
      "display_name": "Python 3"
    },
    "language_info": {
      "name": "python"
    }
  },
  "cells": [
    {
      "cell_type": "code",
      "source": [
        "import numpy as np\n",
        "from sklearn.preprocessing import StandardScaler\n",
        "from sklearn.model_selection import train_test_split\n",
        "import matplotlib.pyplot as plt"
      ],
      "metadata": {
        "id": "Ot0DIIROqMwj"
      },
      "execution_count": 8,
      "outputs": []
    },
    {
      "cell_type": "code",
      "source": [
        "# 1. Chuẩn bị dữ liệu\n",
        "data = {\n",
        "    'x': [1, 2, 3, 4, 5, 6, 7, 8, 9, 10, 11, 12, 13, 14, 15, 16, 17, 18, 19, 20],\n",
        "    'y': [3, 5, 7, 9, 11, 13, 15, 17, 19, 21, 23, 25, 27, 29, 31, 33, 35, 37, 39, 41]\n",
        "}\n",
        "\n",
        "X = np.array(data['x']).reshape(-1, 1)  # Chuyển thành ma trận 2D (20, 1)\n",
        "y = np.array(data['y'])\n",
        "print(X,y)"
      ],
      "metadata": {
        "colab": {
          "base_uri": "https://localhost:8080/"
        },
        "collapsed": true,
        "id": "b_ZycyaMq744",
        "outputId": "de6951c5-7200-40aa-9992-c10928fc0ea3"
      },
      "execution_count": 9,
      "outputs": [
        {
          "output_type": "stream",
          "name": "stdout",
          "text": [
            "[[ 1]\n",
            " [ 2]\n",
            " [ 3]\n",
            " [ 4]\n",
            " [ 5]\n",
            " [ 6]\n",
            " [ 7]\n",
            " [ 8]\n",
            " [ 9]\n",
            " [10]\n",
            " [11]\n",
            " [12]\n",
            " [13]\n",
            " [14]\n",
            " [15]\n",
            " [16]\n",
            " [17]\n",
            " [18]\n",
            " [19]\n",
            " [20]] [ 3  5  7  9 11 13 15 17 19 21 23 25 27 29 31 33 35 37 39 41]\n"
          ]
        }
      ]
    },
    {
      "cell_type": "code",
      "source": [
        "# 2. Chuẩn hóa dữ liệu (Chia train-test trước, chuẩn hóa sau)\n",
        "X_train, X_test, y_train, y_test = train_test_split(X, y, test_size=0.2, random_state=42)\n",
        "\n",
        "scaler = StandardScaler()\n",
        "X_train_scaled = scaler.fit_transform(X_train)  # Chỉ fit trên train\n",
        "X_test_scaled = scaler.transform(X_test)        # Không fit lại\n",
        "\n",
        "print(X_train_scaled,X_test_scaled)"
      ],
      "metadata": {
        "colab": {
          "base_uri": "https://localhost:8080/"
        },
        "id": "UGMoLurjqbas",
        "outputId": "7d057d99-81b1-463c-bc4b-1fa5c037f792"
      },
      "execution_count": 10,
      "outputs": [
        {
          "output_type": "stream",
          "name": "stdout",
          "text": [
            "[[-0.35612994]\n",
            " [-0.94558639]\n",
            " [ 0.23332651]\n",
            " [-1.33855735]\n",
            " [ 1.60872489]\n",
            " [ 1.21575393]\n",
            " [ 0.62629748]\n",
            " [-1.53504284]\n",
            " [-0.15964445]\n",
            " [ 1.80521037]\n",
            " [-1.14207187]\n",
            " [ 0.42981199]\n",
            " [-0.55261542]\n",
            " [ 0.03684103]\n",
            " [ 0.82278296]\n",
            " [-0.7491009 ]] [[-1.9280138 ]\n",
            " [ 1.41223941]\n",
            " [ 1.01926844]\n",
            " [-1.73152832]]\n"
          ]
        }
      ]
    },
    {
      "cell_type": "code",
      "source": [
        "# 3. Hàm hỗ trợ\n",
        "def predict(X, w, b):\n",
        "    return X * w + b\n",
        "\n",
        "def compute_loss(y, y_hat):\n",
        "    return np.mean((y - y_hat)**2)  # MSE\n",
        "\n",
        "def compute_gradient(X_batch, y_batch, w, b):\n",
        "    y_hat = predict(X_batch, w, b)\n",
        "    dw = (2/len(X_batch)) * np.sum(X_batch * (y_hat - y_batch))  # Đã sửa\n",
        "    db = (2/len(X_batch)) * np.sum(y_hat - y_batch)\n",
        "    return dw, db"
      ],
      "metadata": {
        "id": "NZrzY-pPrawQ"
      },
      "execution_count": 24,
      "outputs": []
    },
    {
      "cell_type": "code",
      "source": [
        "learning_rates = [0.001, 0.01, 0.1]\n",
        "for lr in learning_rates:\n",
        "    w, b, history = mini_batch_gd(X_train_scaled, y_train, lr=lr, epochs=100)\n",
        "    plt.plot(history['loss'], label=f'lr={lr}')\n",
        "plt.legend()\n",
        "plt.show()"
      ],
      "metadata": {
        "colab": {
          "base_uri": "https://localhost:8080/",
          "height": 966
        },
        "id": "mjwjHNbBx1yo",
        "outputId": "5663e0ee-c7fa-416b-d21f-0692931f5142"
      },
      "execution_count": 31,
      "outputs": [
        {
          "output_type": "stream",
          "name": "stdout",
          "text": [
            "Epoch 0: Loss = 583.6183, w = 0.0189, b = 0.7159\n",
            "Epoch 10: Loss = 356.2195, w = 0.5287, b = 6.7401\n",
            "Epoch 20: Loss = 237.3486, w = 1.0396, b = 11.1073\n",
            "Epoch 30: Loss = 174.8045, w = 1.1994, b = 14.2730\n",
            "Epoch 40: Loss = 142.1684, w = 1.3849, b = 16.5718\n",
            "Epoch 50: Loss = 125.8982, w = 1.7437, b = 18.2377\n",
            "Epoch 60: Loss = 117.2699, w = 1.8808, b = 19.4433\n",
            "Epoch 70: Loss = 113.1473, w = 2.0514, b = 20.3164\n",
            "Epoch 80: Loss = 110.7544, w = 2.0852, b = 20.9526\n",
            "Epoch 90: Loss = 109.3275, w = 2.0626, b = 21.4151\n",
            "Epoch 0: Loss = 366.0023, w = 0.6237, b = 6.4385\n",
            "Epoch 10: Loss = 114.8135, w = 3.3269, b = 22.2561\n",
            "Epoch 20: Loss = 108.8212, w = 2.2829, b = 22.6412\n",
            "Epoch 30: Loss = 109.5392, w = 2.4308, b = 22.4798\n",
            "Epoch 40: Loss = 113.6373, w = 3.1648, b = 22.5152\n",
            "Epoch 50: Loss = 106.6101, w = 1.7320, b = 22.5928\n",
            "Epoch 60: Loss = 115.4280, w = 3.4378, b = 22.6464\n",
            "Epoch 70: Loss = 110.9036, w = 2.7008, b = 22.6344\n",
            "Epoch 80: Loss = 107.8498, w = 2.0557, b = 22.5049\n",
            "Epoch 90: Loss = 111.8853, w = 2.8765, b = 22.5847\n",
            "Epoch 0: Loss = 109.0093, w = 2.2373, b = 21.9970\n",
            "Epoch 10: Loss = 151.9619, w = 4.6438, b = 17.4493\n",
            "Epoch 20: Loss = 142.4779, w = 5.0639, b = 18.9884\n",
            "Epoch 30: Loss = 105.6232, w = 0.0871, b = 24.0414\n",
            "Epoch 40: Loss = 143.3362, w = 5.4330, b = 19.4299\n",
            "Epoch 50: Loss = 162.1463, w = 5.1339, b = 28.2977\n",
            "Epoch 60: Loss = 139.1415, w = 3.8746, b = 18.0952\n",
            "Epoch 70: Loss = 107.1000, w = 1.4856, b = 23.7579\n",
            "Epoch 80: Loss = 371.0827, w = 14.4922, b = 15.0454\n",
            "Epoch 90: Loss = 307.2739, w = 10.9058, b = 13.4202\n"
          ]
        },
        {
          "output_type": "display_data",
          "data": {
            "text/plain": [
              "<Figure size 640x480 with 1 Axes>"
            ],
            "image/png": "[encoded data removed]"
          },
          "metadata": {}
        }
      ]
    },
    {
      "cell_type": "code",
      "source": [
        "# 4. Mini-batch Gradient Descent\n",
        "def mini_batch_gd(X, y, batch_size=4, lr=0.01, epochs=100):\n",
        "    w, b = 0.0, 0.0  # Khởi tạo tham số\n",
        "    n_samples = len(X)\n",
        "    history = {'loss': [], 'w': [], 'b': []}\n",
        "\n",
        "    for epoch in range(epochs):\n",
        "        # Xáo trộn dữ liệu mỗi epoch\n",
        "        indices = np.random.permutation(n_samples)\n",
        "        X_shuffled = X[indices]\n",
        "        y_shuffled = y[indices]\n",
        "\n",
        "        # Duyệt qua từng batch\n",
        "        for i in range(0, n_samples, batch_size):\n",
        "            X_batch = X_shuffled[i:i+batch_size]\n",
        "            y_batch = y_shuffled[i:i+batch_size]\n",
        "\n",
        "            # Tính gradient và cập nhật tham số\n",
        "            dw, db = compute_gradient(X_batch, y_batch, w, b)\n",
        "            w -= lr * dw\n",
        "            b -= lr * db\n",
        "\n",
        "        # Tính loss sau mỗi epoch (trên toàn bộ tập train)\n",
        "        y_hat = predict(X, w, b)\n",
        "        loss = compute_loss(y, y_hat)\n",
        "        history['loss'].append(loss)\n",
        "        history['w'].append(w)\n",
        "        history['b'].append(b)\n",
        "\n",
        "        if epoch % 10 == 0:\n",
        "            print(f\"Epoch {epoch}: Loss = {loss:.4f}, w = {w:.4f}, b = {b:.4f}\")\n",
        "\n",
        "    return w, b, history"
      ],
      "metadata": {
        "id": "uK59Uk6vsPpW"
      },
      "execution_count": 32,
      "outputs": []
    },
    {
      "cell_type": "code",
      "source": [
        "# 5. Huấn luyện\n",
        "batch_size = 4\n",
        "w_final, b_final, history = mini_batch_gd(X_train_scaled, y_train, batch_size, lr=0.1, epochs=100)\n",
        "print(f\"Final parameters: w = {w_final:.4f}, b = {b_final:.4f}\")"
      ],
      "metadata": {
        "colab": {
          "base_uri": "https://localhost:8080/"
        },
        "id": "LrDiugepsS8B",
        "outputId": "71a6cd93-a830-467c-d77a-abd3cbfe1c4e"
      },
      "execution_count": 33,
      "outputs": [
        {
          "output_type": "stream",
          "name": "stdout",
          "text": [
            "Epoch 0: Loss = 117.2096, w = 1.8149, b = 25.8353\n",
            "Epoch 10: Loss = 109.1111, w = 1.4609, b = 20.7899\n",
            "Epoch 20: Loss = 104.3891, w = 0.8480, b = 22.8712\n",
            "Epoch 30: Loss = 105.5334, w = 1.1650, b = 23.3779\n",
            "Epoch 40: Loss = 284.6992, w = 13.3265, b = 24.4944\n",
            "Epoch 50: Loss = 125.4173, w = 3.0419, b = 19.0817\n",
            "Epoch 60: Loss = 140.4412, w = 5.2863, b = 19.6440\n",
            "Epoch 70: Loss = 104.1342, w = 0.4683, b = 23.1778\n",
            "Epoch 80: Loss = 108.4031, w = 1.9125, b = 21.5591\n",
            "Epoch 90: Loss = 104.2066, w = 0.7479, b = 22.8195\n",
            "Final parameters: w = 1.5808, b = 24.6262\n"
          ]
        }
      ]
    },
    {
      "cell_type": "code",
      "source": [
        "# 6. Đánh giá trên tập test\n",
        "y_test_pred = predict(X_test_scaled, w_final, b_final)\n",
        "test_loss = compute_loss(y_test, y_test_pred)\n",
        "print(f\"\\nTest Loss: {test_loss:.4f}\")\n",
        "print(f\"Final Parameters: w = {w_final:.4f}, b = {b_final:.4f}\")"
      ],
      "metadata": {
        "colab": {
          "base_uri": "https://localhost:8080/"
        },
        "id": "9ffqIVsCtZ-y",
        "outputId": "48030df5-8155-467b-bab2-e6b260ddf68e"
      },
      "execution_count": 34,
      "outputs": [
        {
          "output_type": "stream",
          "name": "stdout",
          "text": [
            "\n",
            "Test Loss: 270.1429\n",
            "Final Parameters: w = 1.5808, b = 24.6262\n"
          ]
        }
      ]
    },
    {
      "cell_type": "markdown",
      "source": [],
      "metadata": {
        "id": "Mlu3FfXQwkEe"
      }
    }
  ]
}